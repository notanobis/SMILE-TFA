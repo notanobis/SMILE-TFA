{
 "cells": [
  {
   "cell_type": "code",
   "execution_count": null,
   "id": "b4ea45e0",
   "metadata": {},
   "outputs": [],
   "source": [
    "import numpy as np\n",
    "from matplotlib import pyplot as plt"
   ]
  },
  {
   "cell_type": "markdown",
   "id": "16be0fef",
   "metadata": {},
   "source": [
    "# Tangent Hypothesis\n",
    "\n",
    "The Tangent Fitting Approach is based on the hypothesis that the maximum intensity arc of the SXI images, correspond to the tangent direction of the magnetopause surface. To verify this claim, we will:\n",
    "1. Extract the magnetopause surface directly from the emissivity cubes.\n",
    "2. Project its tangent points to the SXI imager's FOV.\n",
    "3. Extract the maximum intensity arc and compare it to the projection.\n",
    "\n",
    "## Extracting the Magnetopause surface\n",
    "### Fitting Shue model to zero-emissivity contour\n",
    "We can get a first proxy of the cube's magnetopause by taking the zero-emissivity contour of some central slices, since the magnetosphere has almost zero emission. We can fit a Shue model to these contours since it is rotationally symmetric, and get its geometric parameters that best describe the contours.\n",
    "\n",
    "To do this we first need to load the emissivity cube and transform it to the GSE frame:"
   ]
  },
  {
   "cell_type": "code",
   "execution_count": null,
   "id": "5a216044",
   "metadata": {},
   "outputs": [],
   "source": [
    "import ReadCube as cube\n",
    "ProdGSO = cube.readProdGSO(\"TP_O7cubeMHD\")\n",
    "x_GSE, y_GSE, z_GSE, ProdGSE = cube.GSOtoGSE(ProdGSO)\n",
    "Q_GSE = cube.Q_GSE(ProdGSE)\n"
   ]
  },
  {
   "cell_type": "code",
   "execution_count": 9,
   "id": "3c39426b",
   "metadata": {},
   "outputs": [],
   "source": [
    "import ReadCube as cube\n",
    "Cube = cube.Cube(\"LaTeP_OpenGGCM\", 0.05)"
   ]
  },
  {
   "cell_type": "code",
   "execution_count": 10,
   "id": "464284f1",
   "metadata": {},
   "outputs": [],
   "source": [
    "Q_GSE = Cube.Q_GSE()"
   ]
  },
  {
   "cell_type": "code",
   "execution_count": null,
   "id": "6cfb511d",
   "metadata": {},
   "outputs": [],
   "source": []
  }
 ],
 "metadata": {
  "kernelspec": {
   "display_name": "base",
   "language": "python",
   "name": "python3"
  },
  "language_info": {
   "codemirror_mode": {
    "name": "ipython",
    "version": 3
   },
   "file_extension": ".py",
   "mimetype": "text/x-python",
   "name": "python",
   "nbconvert_exporter": "python",
   "pygments_lexer": "ipython3",
   "version": "3.10.9"
  }
 },
 "nbformat": 4,
 "nbformat_minor": 5
}

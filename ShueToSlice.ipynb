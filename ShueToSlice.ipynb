version https://git-lfs.github.com/spec/v1
oid sha256:9cce1ab67f3836383b58407061c1560a289eca136fc9bca80add5d3747679602
size 345986

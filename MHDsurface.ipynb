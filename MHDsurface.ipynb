version https://git-lfs.github.com/spec/v1
oid sha256:a3ca40324d23e6099bc354d07ac5cfb037090c0a47af67ca8d04671b6bb7144d
size 285350

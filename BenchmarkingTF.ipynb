{
 "cells": [
  {
   "cell_type": "markdown",
   "id": "60183543",
   "metadata": {},
   "source": [
    "# Benchmarking the fitting method\n",
    "\n",
    "A measure of the error of this method is necessary, both for the characterization of the method itself, but also for an in-orbit metric of its accuracy. We will attempt the first through comparison with the simulation and the latter through the image data alone.\n",
    "\n",
    "(shue-to-shue-cube)=\n",
    "## Image-fitted Shue to cube-fitted Shue\n",
    "\n",
    "We can characterize the method by benchmarking it to the expected position of the magnetopause according to the simulation cube. As we saw in \\autoref{section:extract_magnetopause}, extracting the true magnetopause from the cube is not as simple as it appears, the main obstacles being the inhomogeneous behavior of the test particles, but more importantly the ambiguity of defining such a surface consistently. We can, however, run a simple test by comparing the fitted Shue surface to the Shue surface that can best describe the 3D simulation data - a model fitted directly to the cube. For simplicity, we will use the parameters that were fitted in \\autoref{subsec:shue-fit} - $r_0 = 7.82 \\, RE$ and $\\alpha = 0.386$.\n",
    "\n",
    "Running the Hough method for a full orbit, we can get the evolution of the estimated parameters, as well as their error compared to the initial model. We remind the reader that the simulation is a steady state instance and therefore the variability of the detected parameters is attributed solely to the viewing angle. \\autoref{fig:r0} shows the evolution of the estimated subsolar distance $r_0$ with time, for a full summer orbit of August 2025.\n",
    "\n",
    "In \\autoref{fig:r0} strong variation is observed depending on the position of the satellite. The clipping of the $r_0$ values is the result of the discretization of the parameter space in a grid. The green dotted lines, indicating low error detection, are correlated with \\ac{POV}s where the image arc appears symmetrical. The indentation of the cusps is responsible for this seeming asymmetry we observe in the snapshots of the red dotted lines of \\autoref{fig:r0}. This is to be expected since the Shue model is symmetrical and does not describe any indentation, and therefore cannot capture these shapes. This is reflected in the evolution of the error shown in \\autoref{fig:RMSE_shue}, where in this orbit the satellite sees increasingly the cusp as it approaches the magnetopause. A visualization of the images throughout the orbit is provided in the appendix, \\autoref{fig:Augpictures}.\n",
    "\n",
    "\n",
    "Since, we are mainly interested in the subsolar distance estimation, it is useful to plot the deviation of $r_0$ from the initial parameter, as in \\autoref{fig:r0a_error}. We notice that for the symmetric cases, we get error close to $0.5\\, RE$ which is the \\ac{SXI} requirement. This has a non-negligible contribution from the discretization of the parameter space and can be improved through the deployment of fitting schemes as will be discussed in \\autoref{discussion}. Evidently, another important contribution in this error is the simplicity of the model itself, and can be improved by using more sophisticated models such as the Lin or the Liu model. However, these first test shows that although we used a sparsely sampled parameter space and a simplistic model, we can still get information about the subsolar distance with an error close to the requirement. We therefore expect the improvements suggested here to lead to increased accuracy.\n",
    "\n",
    "\n",
    "Contrary to the subsolar distance, the flaring parameter is more challenging to be determined through this method. This is logical, since the asymmetry of the image arc would be interpreted as increased or decreased flaring in a symmetric model. To understand the capabilities of this method in regard to other parameters, we shall run this tests using more descriptive empirical models."
   ]
  },
  {
   "cell_type": "markdown",
   "id": "4094a297",
   "metadata": {},
   "source": [
    "## Characterization through maximum intensity curve \n",
    "\n",
    "\n",
    "Although we expect the simulation to be representative of the magnetopause to some extent, we also expect to be surprised. Having a metric to characterize our measurement without a simulation dependency is crucial for the analysis of the real data. We can achieve this by benchmarking the fitted curve to the maximum intensity arc of the image. Thus, we can have a metric of the error of the fit, but also of the agreement of the empirical model to the true shape of the magnetopause. \n",
    "\n",
    "The latter is particularly important, since it is challenging to derive the global shape of the magnetopause from in-situ measurements alone - meaning that there is still disagreement on its shape and its response to the solar wind. Using a non-representative empirical surface would automatically result in different projected curve geometries, that could not capture the maximum arc shape, no matter the fitting process. The error therefore, between the fitted models through the Hough method and the maximum intensity arc can be used as a metric to characterize the empirical model themselves.\n",
    "\n",
    "\n",
    "The evolution of this metric for the August orbit is shown in \\autoref{fig:shue-arc}. Here we have contribution both from the arc extraction problems that we were facing in \\autoref{max_int_arc}, and from the fitting errors we analyzed above. Better image processing is crucial for this metric to return a reliable estimation of the empirical model error alone. This can be seen in the first snapshot of \\autoref{fig:r0}, where there seems to be a good fit of the model, but the maximum intensity arc extraction fails. However, cases like the symmetric view of \\autoref{43} combined with the extraction of the intended arc, return promising results."
   ]
  },
  {
   "cell_type": "markdown",
   "id": "d101f8f6",
   "metadata": {},
   "source": []
  }
 ],
 "metadata": {
  "language_info": {
   "name": "python"
  }
 },
 "nbformat": 4,
 "nbformat_minor": 5
}
